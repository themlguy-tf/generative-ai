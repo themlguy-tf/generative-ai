{
  "nbformat": 4,
  "nbformat_minor": 0,
  "metadata": {
    "colab": {
      "provenance": []
    },
    "kernelspec": {
      "name": "python3",
      "display_name": "Python 3"
    },
    "language_info": {
      "name": "python"
    }
  },
  "cells": [
    {
      "cell_type": "code",
      "source": [
        "!pip3 install --upgrade --user google-cloud-aiplatform --quiet"
      ],
      "metadata": {
        "id": "GmFP0fRgaGrL"
      },
      "execution_count": 1,
      "outputs": []
    },
    {
      "cell_type": "markdown",
      "source": [
        "# Restart the kernel before proceeding"
      ],
      "metadata": {
        "id": "iI4g2KHzzvCv"
      }
    },
    {
      "cell_type": "code",
      "source": [
        "import time\n",
        "from vertexai.generative_models import FunctionDeclaration, GenerativeModel, Part, Tool\n",
        "import os\n",
        "import requests\n",
        "import time\n"
      ],
      "metadata": {
        "id": "ir3StAz-jRuW"
      },
      "execution_count": 3,
      "outputs": []
    },
    {
      "cell_type": "code",
      "source": [
        "# Authenticate your notebook environment (Colab only)\n",
        "# If you are running this notebook on Google Colab, run the following cell to authenticate your environment. This step is not required if you are using Vertex AI Workbench.\n",
        "\n",
        "from google.colab import auth\n",
        "\n",
        "auth.authenticate_user()"
      ],
      "metadata": {
        "id": "3UzQoP-Tmgz5"
      },
      "execution_count": 18,
      "outputs": []
    },
    {
      "cell_type": "code",
      "source": [
        "#Get the weather API Key\n",
        "weather_api_key = \"<Your API KEY>\"  #get a key from https://weatherbit.io\n"
      ],
      "metadata": {
        "id": "LQDDj4TTjjKt"
      },
      "execution_count": 5,
      "outputs": []
    },
    {
      "cell_type": "code",
      "source": [
        "PROJECT_ID = \"<Your PROJECT>\"\n",
        "LOCATION = \"us-central1\"\n",
        "\n",
        "# Initialize Vertex AI\n",
        "import vertexai\n",
        "import time\n",
        "\n",
        "vertexai.init(project=PROJECT_ID, location=LOCATION)\n"
      ],
      "metadata": {
        "id": "efPbXIdCmcsq"
      },
      "execution_count": 19,
      "outputs": []
    },
    {
      "cell_type": "code",
      "source": [
        "# This function gets the current weather for a given location using the WeatherBit API\n",
        "def get_current_weather(location: str, lat: float, lon: float):\n",
        "    # Make a GET request to the WeatherBit API with the provided latitude and longitude\n",
        "    response = requests.get(f\"https://api.weatherbit.io/v2.0/current?lat={lat}&lon={lon}&key={api_key}&include=minutely\")\n",
        "\n",
        "    # Convert the response to a JSON object\n",
        "    response = response.json()\n",
        "\n",
        "    # Construct a string with the current weather description and temperature for the given location\n",
        "    api_response = \"The current weather in \" + location + \" is \" + response[\"data\"][0][\"weather\"][\"description\"] + \" with a temperature of \" + str(response[\"data\"][0][\"temp\"]) + \"°C.\"\n",
        "\n",
        "    # Return the constructed string\n",
        "    return api_response\n",
        "\n",
        "# This function gets the current time and date for a given time zone using the World Time API\n",
        "def get_current_time(time_zone: str):\n",
        "    # Make a GET request to the World Time API with the provided time zone\n",
        "    response = requests.get(f\"http://worldtimeapi.org/api/timezone/{time_zone}\")\n",
        "\n",
        "    # Convert the response to a JSON object\n",
        "    response = response.json()\n",
        "    print(response)\n",
        "\n",
        "    # Construct a string with the current time and date for the given time zone\n",
        "    api_response = \"The current time in \" + time_zone + \" is \" + response[\"datetime\"] + \". Today's date is \" + response[\"datetime\"][0:10] + \".\"\n",
        "\n",
        "    # Return the constructed string\n",
        "    return api_response\n"
      ],
      "metadata": {
        "id": "ModL0KJqj0wr"
      },
      "execution_count": 24,
      "outputs": []
    },
    {
      "cell_type": "code",
      "source": [
        "# Function Declaration\n",
        "\n",
        "get_current_weather_func = FunctionDeclaration(\n",
        "    name=\"get_current_weather\",\n",
        "    description=\"Get the current weather in a given location. Use your knowledge of latitude and longitude to get the weather for a location.\",\n",
        "    parameters={\n",
        "        \"type\": \"object\",\n",
        "        \"properties\": {\n",
        "            \"location\": {\n",
        "                \"type\": \"string\",\n",
        "                \"description\": \"The location to get the weather for. For example, 'New York, NY' or 'London, UK'\",\n",
        "            },\n",
        "            \"latitude\": {\n",
        "                \"type\": \"number\",\n",
        "                \"description\": \"The latitude of the location to get the weather for\",\n",
        "            },\n",
        "            \"longitude\": {\n",
        "                \"type\": \"number\",\n",
        "                \"description\": \"The longitude of the location to get the weather for\",\n",
        "            },\n",
        "\n",
        "        },\n",
        "        \"required\": [\"location\", \"latitude\", \"longitude\"],\n",
        "    },\n",
        "\n",
        "    )\n",
        "\n",
        "# Function Declaration\n",
        "\n",
        "get_current_time_func = FunctionDeclaration(\n",
        "    name=\"get_current_time\",\n",
        "    description=\"Get the current time and date in a given time zone. Use this tool before googling questions that are time sensitive.\",\n",
        "    parameters={\n",
        "        \"type\": \"object\",\n",
        "        \"properties\": {\n",
        "            \"time_zone\": {\n",
        "                \"type\": \"string\",\n",
        "                \"description\": \"The time zone to get the time for. For example, 'America/New_York' or 'Europe/London'\",\n",
        "            },\n",
        "        },\n",
        "        \"required\": [\"time_zone\"],\n",
        "    },\n",
        "\n",
        "    )\n",
        "\n",
        "sql_query_tool = Tool(\n",
        "    function_declarations=[\n",
        "        # google_search_func,\n",
        "        get_current_weather_func,\n",
        "        get_current_time_func,\n",
        "    ],\n",
        ")"
      ],
      "metadata": {
        "id": "qtevgOOhj7Ow"
      },
      "execution_count": 14,
      "outputs": []
    },
    {
      "cell_type": "code",
      "source": [
        "# Initialize the Vertex AI GenerativeModel with the specified model name, generation configuration, and tools\n",
        "model = GenerativeModel(\n",
        "    \"gemini-1.5-pro-preview-0409\",\n",
        "    generation_config={\"temperature\": 0},\n",
        "    tools=[sql_query_tool],\n",
        ")\n"
      ],
      "metadata": {
        "id": "7EZ07zGKoTtt"
      },
      "execution_count": 26,
      "outputs": []
    },
    {
      "cell_type": "code",
      "source": [
        "\n",
        "# This is the main function that handles user input and generates a response\n",
        "def main(message):\n",
        "\n",
        "    full_response = \"\"\n",
        "    # Get the current date and time\n",
        "    current_date = time.strftime(\"%Y-%m-%d %H:%M:%S\", time.localtime())\n",
        "    # Start a new chat with the model\n",
        "    chat = model.start_chat(response_validation=False)\n",
        "\n",
        "    # Construct the prompt for the model, including the user's question and instructions for using the available tools\n",
        "    prompt = \"User Question: \" + message + \"\\n\"\n",
        "\n",
        "    prompt += f\"\"\"\n",
        "        You are Gemini, a large language model trained by Google. Current date: {current_date}\n",
        "\n",
        "        You have the tool to be used in the following circumstances:\n",
        "        - User is asking about current events or something that requires real-time information (weather, sports scores, etc.)\n",
        "        - User is asking about some term you are totally unfamiliar with (it might be new)\n",
        "        - User explicitly asks you to browse the web for information. Note: The more specific the query, the more accurate the results.\n",
        "        For example, if user asks 'When does Google Next Happen?' the query should be 'Google Next 2024 date'.\n",
        "        ALWAYS refine the user question to get the most accurate results, NEVER use the user question as is.\n",
        "        If you are unsatisfied with the original results retry with a better query.\n",
        "        Think Step by Step: 1. Understand the user question 2. Refine the query 3. Get the search results 4. Summarize the search results in a concise manner.\n",
        "        \"\"\"\n",
        "\n",
        "    # Send the prompt to the model and get the initial response\n",
        "    response = chat.send_message(prompt)\n",
        "    response = response.candidates[0].content.parts[0]\n",
        "\n",
        "    print(response)\n",
        "\n",
        "    api_requests_and_responses = []\n",
        "    backend_details = \"\"\n",
        "\n",
        "    function_calling_in_process = True\n",
        "    while function_calling_in_process:\n",
        "        try:\n",
        "            params = {}\n",
        "            # Extract the function call parameters from the response\n",
        "            for key, value in response.function_call.args.items():\n",
        "                params[key] = value\n",
        "\n",
        "            print(response.function_call.name)\n",
        "            print(params)\n",
        "\n",
        "            # If the response is a call to the get_current_weather function, execute it with the provided parameters\n",
        "            if response.function_call.name == \"get_current_weather\":\n",
        "                location = params[\"location\"]\n",
        "                lat = params[\"latitude\"]\n",
        "                lon = params[\"longitude\"]\n",
        "                api_response = get_current_weather(location, lat, lon)\n",
        "                api_requests_and_responses.append(\n",
        "                    [response.function_call.name, params, api_response]\n",
        "                )\n",
        "\n",
        "            # If the response is a call to the get_current_time function, execute it with the provided parameters\n",
        "            if response.function_call.name == \"get_current_time\":\n",
        "                time_zone = params[\"time_zone\"]\n",
        "                api_response = get_current_time(time_zone)\n",
        "                api_requests_and_responses.append(\n",
        "                    [response.function_call.name, params, api_response]\n",
        "                )\n",
        "\n",
        "            print(api_response)\n",
        "\n",
        "            # Send the API response back to the model and get the next response\n",
        "            response = chat.send_message(\n",
        "                Part.from_function_response(\n",
        "                    name=response.function_call.name,\n",
        "                    response={\n",
        "                        \"content\": api_response,\n",
        "                    },\n",
        "                ),\n",
        "            )\n",
        "            response = response.candidates[0].content.parts[0]\n",
        "\n",
        "            # Construct a string with details of the function call, parameters, and API response\n",
        "            backend_details += \"- Function call:\\n\"\n",
        "            backend_details += (\n",
        "                \"   - Function name: ```\"\n",
        "                + str(api_requests_and_responses[-1][0])\n",
        "                + \"```\"\n",
        "            )\n",
        "            backend_details += \"\\n\\n\"\n",
        "            backend_details += (\n",
        "                \"   - Function parameters: ```\"\n",
        "                + str(api_requests_and_responses[-1][1])\n",
        "                + \"```\"\n",
        "            )\n",
        "            backend_details += \"\\n\\n\"\n",
        "            backend_details += (\n",
        "                \"   - API response: ```\"\n",
        "                + str(api_requests_and_responses[-1][2])\n",
        "                + \"```\"\n",
        "            )\n",
        "            backend_details += \"\\n\\n\"\n",
        "\n",
        "        except AttributeError:\n",
        "            # If there is no more function call in the response, exit the loop\n",
        "            function_calling_in_process = False\n",
        "\n",
        "    # Wait for 3 seconds (not sure why)\n",
        "    time.sleep(3)\n",
        "    text_content = backend_details\n",
        "\n",
        "    # Get the final response text from the model\n",
        "    full_response = response.text\n",
        "    print(full_response)\n",
        "\n"
      ],
      "metadata": {
        "id": "zxs8d4HgkFpg"
      },
      "execution_count": null,
      "outputs": []
    },
    {
      "cell_type": "code",
      "source": [
        "# Call the main function with a user message\n",
        "main(\"What's the weather like in New York City today?\")"
      ],
      "metadata": {
        "colab": {
          "base_uri": "https://localhost:8080/"
        },
        "id": "qfudllSouVOq",
        "outputId": "4992b7cb-2eb4-4173-8090-14e9c4f65fdc"
      },
      "execution_count": 30,
      "outputs": [
        {
          "output_type": "stream",
          "name": "stdout",
          "text": [
            "function_call {\n",
            "  name: \"get_current_weather\"\n",
            "  args {\n",
            "    fields {\n",
            "      key: \"latitude\"\n",
            "      value {\n",
            "        number_value: 40.7128\n",
            "      }\n",
            "    }\n",
            "    fields {\n",
            "      key: \"location\"\n",
            "      value {\n",
            "        string_value: \"New York City\"\n",
            "      }\n",
            "    }\n",
            "    fields {\n",
            "      key: \"longitude\"\n",
            "      value {\n",
            "        number_value: -74.006\n",
            "      }\n",
            "    }\n",
            "  }\n",
            "}\n",
            "\n",
            "get_current_weather\n",
            "{'longitude': -74.006, 'latitude': 40.7128, 'location': 'New York City'}\n",
            "The current weather in New York City is Clear sky with a temperature of 11.4°C.\n",
            "The current weather in New York City is Clear sky with a temperature of 11.4°C. \n",
            "\n"
          ]
        }
      ]
    },
    {
      "cell_type": "code",
      "source": [
        "main(\"What's the time New York City now?\")"
      ],
      "metadata": {
        "colab": {
          "base_uri": "https://localhost:8080/"
        },
        "id": "VDLtbq7Pmvtv",
        "outputId": "ef990e26-0a78-4c3b-d7b9-a562ccbcde53"
      },
      "execution_count": 29,
      "outputs": [
        {
          "output_type": "stream",
          "name": "stdout",
          "text": [
            "function_call {\n",
            "  name: \"get_current_time\"\n",
            "  args {\n",
            "    fields {\n",
            "      key: \"time_zone\"\n",
            "      value {\n",
            "        string_value: \"America/New_York\"\n",
            "      }\n",
            "    }\n",
            "  }\n",
            "}\n",
            "\n",
            "get_current_time\n",
            "{'time_zone': 'America/New_York'}\n",
            "{'abbreviation': 'EDT', 'client_ip': '34.16.166.157', 'datetime': '2024-04-22T22:11:37.340752-04:00', 'day_of_week': 1, 'day_of_year': 113, 'dst': True, 'dst_from': '2024-03-10T07:00:00+00:00', 'dst_offset': 3600, 'dst_until': '2024-11-03T06:00:00+00:00', 'raw_offset': -18000, 'timezone': 'America/New_York', 'unixtime': 1713838297, 'utc_datetime': '2024-04-23T02:11:37.340752+00:00', 'utc_offset': '-04:00', 'week_number': 17}\n",
            "The current time in America/New_York is 2024-04-22T22:11:37.340752-04:00. Today's date is 2024-04-22.\n",
            "The current time in New York City is 10:11 PM on April 22, 2024. \n",
            "\n"
          ]
        }
      ]
    }
  ]
}